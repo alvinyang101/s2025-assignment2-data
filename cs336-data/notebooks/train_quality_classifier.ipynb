{
 "cells": [
  {
   "cell_type": "code",
   "execution_count": null,
   "metadata": {},
   "outputs": [],
   "source": [
    "#!/usr/bin/env python3\n",
    "import os\n",
    "import random\n",
    "import subprocess\n",
    "import fasttext\n",
    "from typing import Optional, List\n",
    "from warcio.archiveiterator import ArchiveIterator\n",
    "\n",
    "from cs336_data.harmful import classify_nsfw, classify_toxic_speech\n",
    "from cs336_data.language_id import identify_language\n",
    "from cs336_data.parsing import extract_text_from_html_bytes\n",
    "from cs336_data.privacy import mask_emails, mask_ips, mask_phone_numbers\n",
    "from cs336_data.quality import gopher_quality_filter\n",
    "\n",
    "def subsample_urls(input_file: str, output_file: str, sample_size: int) -> None:\n",
    "    \"\"\"\n",
    "    Subsample URLs from input file and write to output file.\n",
    "    \n",
    "    Args:\n",
    "        input_file: Path to input file containing URLs\n",
    "        output_file: Path to output file to write subsampled URLs\n",
    "        sample_size: Number of URLs to sample\n",
    "    \"\"\"\n",
    "    with open(input_file, 'r') as f:\n",
    "        urls = f.readlines()\n",
    "    \n",
    "    # Subsample\n",
    "    sampled_urls = random.sample(urls, min(sample_size, len(urls)))\n",
    "    \n",
    "    with open(output_file, 'w') as f:\n",
    "        f.writelines(sampled_urls)\n",
    "    \n",
    "    print(f\"Subsampled {len(sampled_urls)} URLs from {len(urls)} total URLs\")\n",
    "\n",
    "\n",
    "def fetch_urls(url_file: str, warc_file: str) -> None:\n",
    "    \"\"\"\n",
    "    Fetch URLs using wget and save to WARC file.\n",
    "    \n",
    "    Args:\n",
    "        url_file: Path to file containing URLs to fetch\n",
    "        warc_file: Path to output WARC file\n",
    "    \"\"\"\n",
    "    cmd = f\"wget --timeout=5 -i {url_file} --tries=3 --warc-file={warc_file} -O /dev/null\"\n",
    "    print(f\"Running command: {cmd}\")\n",
    "    \n",
    "    try:\n",
    "        subprocess.run(cmd, shell=True, check=True)\n",
    "        print(f\"Successfully fetched URLs and saved to {warc_file}.warc.gz\")\n",
    "    except subprocess.CalledProcessError as e:\n",
    "        print(f\"Error fetching URLs: {e}\")\n",
    "\n",
    "\n",
    "def extract_wiki_texts_from_warc(warc_file: str, extract_text_from_html_bytes, quality_filter) -> List[tuple]:\n",
    "    \"\"\"\n",
    "    Extract texts from WARC file and apply quality filter.\n",
    "    \n",
    "    Args:\n",
    "        warc_file: Path to WARC file\n",
    "        extract_text_from_html_bytes: Function to extract text from HTML bytes\n",
    "        gopher_quality_filter: Function to filter quality texts\n",
    "    \n",
    "    Returns:\n",
    "        List of tuples (text, label)\n",
    "    \"\"\"\n",
    "    warc_path = f\"{warc_file}.warc.gz\"\n",
    "    texts = []\n",
    "    \n",
    "    with open(warc_path, 'rb') as f:\n",
    "        for record in ArchiveIterator(f):\n",
    "            if record.rec_type == 'response' and record.http_headers.get_header('Content-Type', '').startswith('text/html'):\n",
    "                html_bytes = record.content_stream().read()\n",
    "                text = extract_text_from_html_bytes(html_bytes)\n",
    "                \n",
    "                if text:\n",
    "                    # Apply quality filter and assign label\n",
    "                    is_quality = quality_filter(text)\n",
    "                    if is_quality:\n",
    "                        texts.append((text, \"__label__wiki\"))\n",
    "    \n",
    "    print(f\"Extracted {len(texts)} quality text samples from WARC file\")\n",
    "    return texts\n",
    "\n",
    "\n",
    "def extract_cc_texts_from_warc(warc_file: str, extract_text_from_html_bytes) -> List[tuple]:\n",
    "    \"\"\"\n",
    "    Extract texts from WARC file.\n",
    "    \n",
    "    Args:\n",
    "        warc_file: Path to WARC file\n",
    "        extract_text_from_html_bytes: Function to extract text from HTML bytes\n",
    "    \n",
    "    Returns:\n",
    "        List of tuples (text, label)\n",
    "    \"\"\"\n",
    "    warc_path = f\"{warc_file}.warc.gz\"\n",
    "    texts = []\n",
    "    \n",
    "    with open(warc_path, 'rb') as f:\n",
    "        for record in ArchiveIterator(f):\n",
    "            if record.rec_type == 'response' and record.http_headers.get_header('Content-Type', '').startswith('text/html'):\n",
    "                html_bytes = record.content_stream().read()\n",
    "                text = extract_text_from_html_bytes(html_bytes)\n",
    "                \n",
    "                if text:\n",
    "                    texts.append((text, \"__label__cc\"))\n",
    "    \n",
    "    print(f\"Extracted {len(texts)} cc text samples from WARC file\")\n",
    "    return texts\n",
    "\n",
    "\n",
    "def prepare_fasttext_data(texts: List[tuple], output_file: str) -> None:\n",
    "    \"\"\"\n",
    "    Prepare data for FastText training.\n",
    "    \n",
    "    Args:\n",
    "        texts: List of tuples (text, label)\n",
    "        output_file: Path to output file for FastText training\n",
    "    \"\"\"\n",
    "    with open(output_file, 'w') as f:\n",
    "        for text, label in texts:\n",
    "            text_line = text.replace('\\n', ' ').strip()\n",
    "            f.write(f\"{label} {text_line}\\n\")\n",
    "    \n",
    "    print(f\"Prepared FastText training data with {len(texts)} samples\")"
   ]
  },
  {
   "cell_type": "code",
   "execution_count": null,
   "metadata": {},
   "outputs": [
    {
     "name": "stdout",
     "output_type": "stream",
     "text": [
      "Extracted 321 quality text samples from WARC file\n",
      "Extracted 47823 cc text samples from WARC file\n",
      "Prepared FastText training data with 963 samples\n"
     ]
    }
   ],
   "source": [
    "# Define variables\n",
    "input_url_file = \"../data/enwiki-20240420-extracted_urls.txt\"\n",
    "subsampled_url_file = \"../processed/subsampled_urls.txt\"\n",
    "wiki_warc_file = \"../processed/subsampled_urls\"\n",
    "cc_warc_file = \"../data/CC-MAIN-20180420081400-20180420101400-00118\"\n",
    "fasttext_data_file = \"../processed/fasttext_training_data.txt\"\n",
    "model_file = \"../models/wikipedia_quality_model.bin\"\n",
    "sample_size = 1000  # Number of URLs to sample\n",
    "\n",
    "# Subsample URLs\n",
    "subsample_urls(input_url_file, subsampled_url_file, sample_size)\n",
    "\n",
    "# Fetch URLs using wget\n",
    "fetch_urls(subsampled_url_file, warc_file = wiki_warc_file)\n",
    "\n",
    "# Extract texts from WARC file\n",
    "wiki_texts = extract_wiki_texts_from_warc(wiki_warc_file, extract_text_from_html_bytes, gopher_quality_filter)\n",
    "cc_texts = extract_cc_texts_from_warc(cc_warc_file, extract_text_from_html_bytes)\n",
    "\n",
    "# Balance the number of bad data to be in the ballpark of the good data\n",
    "trimmed_cc_len = min(len(wiki_texts)*2, len(cc_texts))\n",
    "cc_texts = cc_texts[:trimmed_cc_len]\n",
    "texts = wiki_texts\n",
    "texts.extend(cc_texts)\n",
    "\n",
    "# Prepare FastText training data\n",
    "prepare_fasttext_data(texts, fasttext_data_file)"
   ]
  },
  {
   "cell_type": "markdown",
   "metadata": {},
   "source": [
    "### Train model"
   ]
  },
  {
   "cell_type": "code",
   "execution_count": null,
   "metadata": {},
   "outputs": [
    {
     "name": "stderr",
     "output_type": "stream",
     "text": [
      "Read 0M words\n",
      "Number of words:  171596\n",
      "Number of labels: 2\n",
      "Progress:  99.3% words/sec/thread: 4033280 lr:  0.000662 avg.loss:  0.015998 ETA:   0h 0m 0s"
     ]
    },
    {
     "name": "stdout",
     "output_type": "stream",
     "text": [
      "Model trained and saved to ../models/wikipedia_quality_model.bin\n",
      "Number of words: 171596\n",
      "Number of labels: 2\n"
     ]
    },
    {
     "name": "stderr",
     "output_type": "stream",
     "text": [
      "Progress: 100.0% words/sec/thread: 4016661 lr:  0.000000 avg.loss:  0.015936 ETA:   0h 0m 0s\n"
     ]
    }
   ],
   "source": [
    "# Step 5: Train FastText model\n",
    "model = fasttext.train_supervised(input=fasttext_data_file, epoch=500)\n",
    "model.save_model(model_file)\n",
    "\n",
    "print(f\"Model saved to {model_file}\")\n",
    "print(f\"Number of words: {len(model.words)}\")\n",
    "print(f\"Number of labels: {len(model.labels)}\")"
   ]
  },
  {
   "cell_type": "markdown",
   "metadata": {},
   "source": [
    "### Test Model"
   ]
  },
  {
   "cell_type": "code",
   "execution_count": null,
   "metadata": {},
   "outputs": [
    {
     "name": "stdout",
     "output_type": "stream",
     "text": [
      "wiki, 1.0000072717666626\n"
     ]
    },
    {
     "name": "stderr",
     "output_type": "stream",
     "text": [
      "/tmp/ipykernel_42801/3710777812.py:22: DeprecationWarning: Conversion of an array with ndim > 0 to a scalar is deprecated, and will error in future. Ensure you extract a single element from your array before performing this operation. (Deprecated NumPy 1.25.)\n",
      "  print(f\"{label}, {float(confidence)}\")\n"
     ]
    }
   ],
   "source": [
    "text = \"The stocky, short-legged appearance of penguins has endeared them to people worldwide. They range from about 35 cm (14 inches) in height and approximately 1 kg (about 2 pounds) in weight in the blue, or fairy, penguin (Eudyptula minor) to 115 cm (45 inches) and 25 to 40 kg (55 to 90 pounds) in the emperor penguin (Aptenodytes forsteri). Most are black on the back and white below, often with lines of black across the upper breast or spots of white on the head. Colour is rare, being limited to red or yellow irises of the eye in some species; red beaks or feet in a few; yellow brow tufts in the three species of Eudyptes; and orange and yellow on the head, neck, and breast in the emperor and king (A. patagonica) penguins.The stocky, short-legged appearance of penguins has endeared them to people worldwide. They range from about 35 cm (14 inches) in height and approximately 1 kg (about 2 pounds) in weight in the blue, or fairy, penguin (Eudyptula minor) to 115 cm (45 inches) and 25 to 40 kg (55 to 90 pounds) in the emperor penguin (Aptenodytes forsteri). Most are black on the back and white below, often with lines of black across the upper breast or spots of white on the head. Colour is rare, being limited to red or yellow irises of the eye in some species; red beaks or feet in a few; yellow brow tufts in the three species of Eudyptes; and orange and yellow on the head, neck, and breast in the emperor and king (A. patagonica) penguins. The total populations of some species, such as the emperor, are estimated in the hundreds of thousands, but most species of smaller penguins certainly run into the millions. Immense island breeding colonies, some teeming with hundreds of thousands of nesting pairs, represent a large potential food resource, but the economic importance of penguins is negligible. Nineteenth-century whalers and seal hunters visited some colonies for meat and eggs, and a penguin oil industry once took large numbers of the birds. By the early 20th century, however, this exploitation was no longer profitable, and most colonies were left alone or actively protected. Some species are now increasing in numbers, apparently as a result of the mid-20th century’s decimation of Antarctic whales, which compete with penguins for the krill (minute crustaceans) on which both feed. Penguin populations, however, are highly vulnerable to changes in climate and ocean temperature, including recent global warming. Penguins also are very sensitive to depletion of local fish populations by humans.The total populations of some species, such as the emperor, are estimated in the hundreds of thousands, but most species of smaller penguins certainly run into the millions. Immense island breeding colonies, some teeming with hundreds of thousands of nesting pairs, represent a large potential food resource, but the economic importance of penguins is negligible. Nineteenth-century whalers and seal hunters visited some colonies for meat and eggs, and a penguin oil industry once took large numbers of the birds. By the early 20th century, however, this exploitation was no longer profitable, and most colonies were left alone or actively protected. Some species are now increasing in numbers, apparently as a result of the mid-20th century’s decimation of Antarctic whales, which compete with penguins for the krill (minute crustaceans) on which both feed. Penguin populations, however, are highly vulnerable to changes in climate and ocean temperature, including recent global warming. Penguins also are very sensitive to depletion of local fish populations by humans.\"\n",
    "try:\n",
    "    model = fasttext.load_model(str(model_file))\n",
    "except Exception as e:\n",
    "    raise RuntimeError(f\"Failed to load the FastText model: {e}\")\n",
    "    \n",
    "predictions = model.predict([text])\n",
    "\n",
    "label = predictions[0][0][0]  # First label\n",
    "confidence = predictions[1][0]  # Confidence for first label\n",
    "\n",
    "if label.startswith(\"__label__\"):\n",
    "    label = label[9:]  # Remove __label__\n",
    "\n",
    "print(f\"{label}, {float(confidence)}\")"
   ]
  },
  {
   "cell_type": "code",
   "execution_count": 6,
   "metadata": {},
   "outputs": [
    {
     "name": "stdout",
     "output_type": "stream",
     "text": [
      "cc, 1.0000077486038208\n"
     ]
    },
    {
     "name": "stderr",
     "output_type": "stream",
     "text": [
      "/tmp/ipykernel_42801/30780488.py:15: DeprecationWarning: Conversion of an array with ndim > 0 to a scalar is deprecated, and will error in future. Ensure you extract a single element from your array before performing this operation. (Deprecated NumPy 1.25.)\n",
      "  print(f\"{label}, {float(confidence)}\")\n"
     ]
    }
   ],
   "source": [
    "text = \"data the her rick highschool pineapple donuts recipe vacation bee movie\"\n",
    "try:\n",
    "    model = fasttext.load_model(str(model_file))\n",
    "except Exception as e:\n",
    "    raise RuntimeError(f\"Failed to load the FastText model: {e}\")\n",
    "    \n",
    "predictions = model.predict([text])\n",
    "\n",
    "label = predictions[0][0][0]  # First label\n",
    "confidence = predictions[1][0]  # Confidence for first label\n",
    "\n",
    "if label.startswith(\"__label__\"):\n",
    "    label = label[9:]  # Remove __label__\n",
    "\n",
    "print(f\"{label}, {float(confidence)}\")"
   ]
  }
 ],
 "metadata": {
  "kernelspec": {
   "display_name": "cs336_data",
   "language": "python",
   "name": "python3"
  },
  "language_info": {
   "codemirror_mode": {
    "name": "ipython",
    "version": 3
   },
   "file_extension": ".py",
   "mimetype": "text/x-python",
   "name": "python",
   "nbconvert_exporter": "python",
   "pygments_lexer": "ipython3",
   "version": "3.10.16"
  }
 },
 "nbformat": 4,
 "nbformat_minor": 2
}
